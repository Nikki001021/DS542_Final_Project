{
 "cells": [
  {
   "cell_type": "code",
   "execution_count": null,
   "metadata": {},
   "outputs": [
    {
     "ename": "SyntaxError",
     "evalue": "invalid syntax (619822693.py, line 1)",
     "output_type": "error",
     "traceback": [
      "\u001b[0;36m  Cell \u001b[0;32mIn[2], line 1\u001b[0;36m\u001b[0m\n\u001b[0;31m    kaggle datasets download -d robikscube/driving-video-with-object-tracking\u001b[0m\n\u001b[0m           ^\u001b[0m\n\u001b[0;31mSyntaxError\u001b[0m\u001b[0;31m:\u001b[0m invalid syntax\n"
     ]
    }
   ],
   "source": [
    "import os\n",
    "import subprocess\n",
    "import argparse\n",
    "import glob\n",
    "from multiprocessing import Pool\n",
    "import time\n",
    "\n",
    "def videos_to_frames(args, video_path):\n",
    "    vid = os.path.basename(video_path).split('.')[0]\n",
    "    output_dir = os.path.join(args.out_dir, vid)\n",
    "    if os.path.isdir(output_dir):\n",
    "        print(f\"skip: {video_path}\")\n",
    "        return output_dir\n",
    "    \n",
    "    os.makedirs(output_dir, exist_ok=True)\n",
    "    \n",
    "    # FFmpeg\n",
    "    cmd = f\"ffmpeg -i {video_path} -vf fps={args.fps} {output_dir}/%06d.jpg -loglevel quiet\"\n",
    "    subprocess.run(cmd, shell=True, check=True)\n",
    "    \n",
    "    print(f\"complete: {video_path} -> {output_dir}\")\n",
    "    return output_dir\n",
    "\n",
    "def process_video(args, video_path):\n",
    "    try:\n",
    "        videos_to_frames(args, video_path)\n",
    "    except Exception as e:\n",
    "        print(f\"fail {video_path}: {str(e)}\")\n",
    "\n",
    "if __name__ == '__main__':\n",
    "    parser = argparse.ArgumentParser(description=\"get frames from videos\")\n",
    "    parser.add_argument(\n",
    "        \"-v\", \"--video_dir\", \n",
    "        required=True, \n",
    "        help=\"video（like 'train'）\"\n",
    "    )\n",
    "    parser.add_argument(\n",
    "        \"-f\", \"--fps\", \n",
    "        type=int, \n",
    "        default=10,\n",
    "        help=\"get frames per second\"\n",
    "    )\n",
    "    parser.add_argument(\n",
    "        \"-o\", \"--out_dir\", \n",
    "        required=True, \n",
    "        help=\"output directory (like 'train_frames')\"\n",
    "    )\n",
    "    parser.add_argument(\n",
    "        \"-n\", \n",
    "        type=int, \n",
    "        default=4,\n",
    "        help=\"number of processes to use\"\n",
    "    )\n",
    "    args = parser.parse_args()\n",
    "\n",
    "    os.makedirs(args.out_dir, exist_ok=True)\n",
    "    all_videos = sorted(glob.glob(os.path.join(args.video_dir, \"*.mov\")))\n",
    "    print(f\"found {len(all_videos)} files\")\n",
    "\n",
    "    start_time = time.time()\n",
    "    with Pool(args.n) as pool:\n",
    "        pool.starmap(process_video, [(args, video) for video in all_videos])\n",
    "    \n",
    "    print(f\"complete! : {time.time() - start_time:.2f}sec\")"
   ]
  }
 ],
 "metadata": {
  "kernelspec": {
   "display_name": "Python 3",
   "language": "python",
   "name": "python3"
  },
  "language_info": {
   "codemirror_mode": {
    "name": "ipython",
    "version": 3
   },
   "file_extension": ".py",
   "mimetype": "text/x-python",
   "name": "python",
   "nbconvert_exporter": "python",
   "pygments_lexer": "ipython3",
   "version": "3.9.6"
  }
 },
 "nbformat": 4,
 "nbformat_minor": 2
}
