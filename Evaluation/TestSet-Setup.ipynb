{
 "cells": [
  {
   "cell_type": "code",
   "execution_count": 2,
   "id": "0202734e",
   "metadata": {},
   "outputs": [
    {
     "name": "stdout",
     "output_type": "stream",
     "text": [
      "Renamed 3000 videos in Test_Video/Normal-002 with prefix 'normal'.\n",
      "Renamed 1500 videos in Test_Video/Crash-1500 with prefix 'crash'.\n",
      "Saved shuffled test_labels.csv with 4500 entries!\n"
     ]
    }
   ],
   "source": [
    "import os\n",
    "import random\n",
    "import pandas as pd\n",
    "\n",
    "def rename_videos(folder_path, prefix):\n",
    "    files = sorted([f for f in os.listdir(folder_path) if f.endswith('.mp4')])\n",
    "    \n",
    "    for idx, filename in enumerate(files):\n",
    "        old_path = os.path.join(folder_path, filename)\n",
    "        new_filename = f\"{prefix}_{idx+1:06d}.mp4\"  # zero-padded\n",
    "        new_path = os.path.join(folder_path, new_filename)\n",
    "        os.rename(old_path, new_path)\n",
    "        \n",
    "    print(f\"Renamed {len(files)} videos in {folder_path} with prefix '{prefix}'.\")\n",
    "\n",
    "# Step 1: Rename videos\n",
    "normal_dir = \"Test_Video/Normal-002\"\n",
    "crash_dir = \"Test_Video/Crash-1500\"\n",
    "\n",
    "rename_videos(normal_dir, \"normal\")\n",
    "rename_videos(crash_dir, \"crash\")\n",
    "\n",
    "# Step 2: Build a list of all videos + labels\n",
    "normal_videos = [(os.path.join('Normal-002', f), 0) for f in os.listdir(normal_dir) if f.endswith('.mp4')]\n",
    "crash_videos = [(os.path.join('Crash-1500', f), 1) for f in os.listdir(crash_dir) if f.endswith('.mp4')]\n",
    "\n",
    "all_test_data = normal_videos + crash_videos\n",
    "\n",
    "# Step 3: Shuffle the combined list\n",
    "random.seed(42)  # reproducibility\n",
    "random.shuffle(all_test_data)\n",
    "\n",
    "# Step 4: Save to CSV\n",
    "df = pd.DataFrame(all_test_data, columns=[\"video_path\", \"label\"])\n",
    "df.to_csv(\"test_labels.csv\", index=False)\n",
    "\n",
    "print(f\"Saved shuffled test_labels.csv with {len(df)} entries!\")"
   ]
  },
  {
   "cell_type": "code",
   "execution_count": null,
   "id": "2b04806c",
   "metadata": {},
   "outputs": [],
   "source": []
  }
 ],
 "metadata": {
  "kernelspec": {
   "display_name": "Python 3 (ipykernel)",
   "language": "python",
   "name": "python3"
  },
  "language_info": {
   "codemirror_mode": {
    "name": "ipython",
    "version": 3
   },
   "file_extension": ".py",
   "mimetype": "text/x-python",
   "name": "python",
   "nbconvert_exporter": "python",
   "pygments_lexer": "ipython3",
   "version": "3.9.12"
  }
 },
 "nbformat": 4,
 "nbformat_minor": 5
}
