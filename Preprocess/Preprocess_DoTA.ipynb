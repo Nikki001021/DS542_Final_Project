{
 "cells": [
  {
   "cell_type": "code",
   "execution_count": 1,
   "id": "11ed4fea",
   "metadata": {},
   "outputs": [],
   "source": [
    "import json\n",
    "import os"
   ]
  },
  {
   "cell_type": "code",
   "execution_count": 7,
   "id": "29ce7f13",
   "metadata": {},
   "outputs": [],
   "source": [
    "#Load the original metadata files\n",
    "with open(\"dataset/metadata_train.json\", \"r\") as f:\n",
    "    metadata_train = json.load(f)\n",
    "with open(\"dataset/metadata_val.json\", \"r\") as f:\n",
    "    metadata_val = json.load(f)"
   ]
  },
  {
   "cell_type": "code",
   "execution_count": 11,
   "id": "e6416b56",
   "metadata": {},
   "outputs": [],
   "source": [
    "#Define anomaly classes to remove\n",
    "exclude_keywords = [\n",
    "    \"leave_to_right\", \"leave_to_left\", \"unknown\", \"obstacle\", \"pedestrian\"\n",
    "]\n",
    "\n",
    "def filter_metadata(metadata):\n",
    "    filtered_metadata = {}\n",
    "    for clip_id, data in metadata.items():\n",
    "        anomaly_class = data.get(\"anomaly_class\", \"\")\n",
    "        #Check for exclusion by keyword\n",
    "        if any (ex_kw in anomaly_class for ex_kw in exclude_keywords):\n",
    "            continue\n",
    "        #Keep the rest\n",
    "        else:\n",
    "            #Remove the prefix \"ego\" and \"other\" and strip extra whitespace\n",
    "            cleaned_class = anomaly_class.split(\": \", 1)[-1].strip()\n",
    "            data[\"anomaly_class\"] = cleaned_class\n",
    "            filtered_metadata[clip_id] = data\n",
    "    return filtered_metadata\n",
    "\n",
    "#Filter both metadata sets\n",
    "filtered_train = filter_metadata(metadata_train)\n",
    "filtered_val = filter_metadata(metadata_val)"
   ]
  },
  {
   "cell_type": "code",
   "execution_count": 12,
   "id": "5e42b1ba",
   "metadata": {},
   "outputs": [],
   "source": [
    "#Save filtered metadata\n",
    "with open (\"dataset/metadata_train_preprocessed.json\", \"w\") as f:\n",
    "    json.dump(filtered_train, f, indent=2)\n",
    "with open (\"dataset/metadata_val_preprocessed.json\", \"w\") as f:\n",
    "    json.dump(filtered_val, f, indent=2)"
   ]
  },
  {
   "cell_type": "code",
   "execution_count": 18,
   "id": "5e399a6b",
   "metadata": {},
   "outputs": [
    {
     "name": "stdout",
     "output_type": "stream",
     "text": [
      "\n",
      "Anomaly class distribution in filtered_train:\n",
      "turning: 1211\n",
      "lateral: 490\n",
      "moving_ahead_or_waiting: 469\n",
      "oncoming: 344\n",
      "start_stop_or_stationary: 67\n",
      "\n",
      "Anomaly class distribution in filtered_val:\n",
      "turning: 485\n",
      "lateral: 236\n",
      "moving_ahead_or_waiting: 194\n",
      "oncoming: 134\n",
      "start_stop_or_stationary: 28\n"
     ]
    }
   ],
   "source": [
    "from collections import defaultdict\n",
    "\n",
    "#Group the filtered metadata files and count the number of data for each anomaly class\n",
    "def count_by_anomaly_class(metadata, name=\"\"):\n",
    "    class_counts = defaultdict(int)\n",
    "    for clip in metadata.values():\n",
    "        class_name = clip.get(\"anomaly_class\", \"unknown\")\n",
    "        class_counts[class_name] += 1\n",
    "    print(f\"\\nAnomaly class distribution in {name}:\")\n",
    "    for cls, count in sorted(class_counts.items(), key=lambda x: -x[1]):\n",
    "        print(f\"{cls}: {count}\")\n",
    "\n",
    "count_by_anomaly_class(filtered_train, \"filtered_train\")\n",
    "count_by_anomaly_class(filtered_val, \"filtered_val\")"
   ]
  },
  {
   "cell_type": "code",
   "execution_count": 14,
   "id": "89058e7a",
   "metadata": {},
   "outputs": [],
   "source": [
    "#Extract remaining video IDs to update split files\n",
    "remaining_train_ids = set(filtered_train.keys())\n",
    "remaining_val_ids = set(filtered_val.keys())\n",
    "\n",
    "#Load and filter split files\n",
    "def update_split_file(split_path, valid_ids):\n",
    "    with open(split_path, \"r\") as f:\n",
    "        lines = f.read().splitlines()\n",
    "    return [line for line in lines if line in valid_ids]\n",
    "\n",
    "updated_train_split = update_split_file(\"dataset/train_split.txt\", remaining_train_ids)\n",
    "updated_val_split = update_split_file(\"dataset/val_split.txt\", remaining_val_ids)\n",
    "\n",
    "#Save updated split files\n",
    "with open(\"dataset/train_split_updated.txt\", \"w\") as f:\n",
    "    f.write(\"\\n\".join(updated_train_split))\n",
    "with open(\"dataset/val_split_updated.txt\", \"w\") as f:\n",
    "    f.write(\"\\n\".join(updated_val_split))"
   ]
  },
  {
   "cell_type": "code",
   "execution_count": 16,
   "id": "4575b9e2",
   "metadata": {},
   "outputs": [
    {
     "name": "stdout",
     "output_type": "stream",
     "text": [
      "2581\n",
      "1077\n"
     ]
    }
   ],
   "source": [
    "print(len(updated_train_split))\n",
    "print(len(updated_val_split))"
   ]
  },
  {
   "cell_type": "code",
   "execution_count": null,
   "id": "02dad6da",
   "metadata": {},
   "outputs": [],
   "source": []
  }
 ],
 "metadata": {
  "kernelspec": {
   "display_name": "Python 3 (ipykernel)",
   "language": "python",
   "name": "python3"
  },
  "language_info": {
   "codemirror_mode": {
    "name": "ipython",
    "version": 3
   },
   "file_extension": ".py",
   "mimetype": "text/x-python",
   "name": "python",
   "nbconvert_exporter": "python",
   "pygments_lexer": "ipython3",
   "version": "3.9.12"
  }
 },
 "nbformat": 4,
 "nbformat_minor": 5
}
